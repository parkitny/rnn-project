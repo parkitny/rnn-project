{
 "cells": [
  {
   "cell_type": "markdown",
   "metadata": {
    "deletable": true,
    "editable": true
   },
   "source": [
    "# TV Script Generation\n",
    "In this project, you'll generate your own [Simpsons](https://en.wikipedia.org/wiki/The_Simpsons) TV scripts using RNNs.  You'll be using part of the [Simpsons dataset](https://www.kaggle.com/wcukierski/the-simpsons-by-the-data) of scripts from 27 seasons.  The Neural Network you'll build will generate a new TV script for a scene at [Moe's Tavern](https://simpsonswiki.com/wiki/Moe's_Tavern).\n",
    "## Get the Data\n",
    "The data is already provided for you.  You'll be using a subset of the original dataset.  It consists of only the scenes in Moe's Tavern.  This doesn't include other versions of the tavern, like \"Moe's Cavern\", \"Flaming Moe's\", \"Uncle Moe's Family Feed-Bag\", etc.."
   ]
  },
  {
   "cell_type": "code",
   "execution_count": 1,
   "metadata": {
    "collapsed": true,
    "deletable": true,
    "editable": true
   },
   "outputs": [],
   "source": [
    "\"\"\"\n",
    "DON'T MODIFY ANYTHING IN THIS CELL\n",
    "\"\"\"\n",
    "import helper\n",
    "\n",
    "data_dir = './data/simpsons/moes_tavern_lines.txt'\n",
    "text = helper.load_data(data_dir)\n",
    "# Ignore notice, since we don't use it for analysing the data\n",
    "text = text[81:]"
   ]
  },
  {
   "cell_type": "markdown",
   "metadata": {
    "deletable": true,
    "editable": true
   },
   "source": [
    "## Explore the Data\n",
    "Play around with `view_sentence_range` to view different parts of the data."
   ]
  },
  {
   "cell_type": "code",
   "execution_count": 2,
   "metadata": {
    "collapsed": false,
    "deletable": true,
    "editable": true
   },
   "outputs": [
    {
     "name": "stdout",
     "output_type": "stream",
     "text": [
      "Dataset Stats\n",
      "Roughly the number of unique words: 11492\n",
      "Number of scenes: 262\n",
      "Average number of sentences in each scene: 15.248091603053435\n",
      "Number of lines: 4257\n",
      "Average number of words in each line: 11.50434578341555\n",
      "\n",
      "The sentences 0 to 10:\n",
      "Moe_Szyslak: (INTO PHONE) Moe's Tavern. Where the elite meet to drink.\n",
      "Bart_Simpson: Eh, yeah, hello, is Mike there? Last name, Rotch.\n",
      "Moe_Szyslak: (INTO PHONE) Hold on, I'll check. (TO BARFLIES) Mike Rotch. Mike Rotch. Hey, has anybody seen Mike Rotch, lately?\n",
      "Moe_Szyslak: (INTO PHONE) Listen you little puke. One of these days I'm gonna catch you, and I'm gonna carve my name on your back with an ice pick.\n",
      "Moe_Szyslak: What's the matter Homer? You're not your normal effervescent self.\n",
      "Homer_Simpson: I got my problems, Moe. Give me another one.\n",
      "Moe_Szyslak: Homer, hey, you should not drink to forget your problems.\n",
      "Barney_Gumble: Yeah, you should only drink to enhance your social skills.\n",
      "\n",
      "\n"
     ]
    }
   ],
   "source": [
    "view_sentence_range = (0, 10)\n",
    "\n",
    "\"\"\"\n",
    "DON'T MODIFY ANYTHING IN THIS CELL\n",
    "\"\"\"\n",
    "import numpy as np\n",
    "\n",
    "print('Dataset Stats')\n",
    "print('Roughly the number of unique words: {}'.format(len({word: None for word in text.split()})))\n",
    "scenes = text.split('\\n\\n')\n",
    "print('Number of scenes: {}'.format(len(scenes)))\n",
    "sentence_count_scene = [scene.count('\\n') for scene in scenes]\n",
    "print('Average number of sentences in each scene: {}'.format(np.average(sentence_count_scene)))\n",
    "\n",
    "sentences = [sentence for scene in scenes for sentence in scene.split('\\n')]\n",
    "print('Number of lines: {}'.format(len(sentences)))\n",
    "word_count_sentence = [len(sentence.split()) for sentence in sentences]\n",
    "print('Average number of words in each line: {}'.format(np.average(word_count_sentence)))\n",
    "\n",
    "print()\n",
    "print('The sentences {} to {}:'.format(*view_sentence_range))\n",
    "print('\\n'.join(text.split('\\n')[view_sentence_range[0]:view_sentence_range[1]]))"
   ]
  },
  {
   "cell_type": "markdown",
   "metadata": {
    "deletable": true,
    "editable": true
   },
   "source": [
    "## Implement Preprocessing Functions\n",
    "The first thing to do to any dataset is preprocessing.  Implement the following preprocessing functions below:\n",
    "- Lookup Table\n",
    "- Tokenize Punctuation\n",
    "\n",
    "### Lookup Table\n",
    "To create a word embedding, you first need to transform the words to ids.  In this function, create two dictionaries:\n",
    "- Dictionary to go from the words to an id, we'll call `vocab_to_int`\n",
    "- Dictionary to go from the id to word, we'll call `int_to_vocab`\n",
    "\n",
    "Return these dictionaries in the following tuple `(vocab_to_int, int_to_vocab)`"
   ]
  },
  {
   "cell_type": "code",
   "execution_count": 3,
   "metadata": {
    "collapsed": false,
    "deletable": true,
    "editable": true
   },
   "outputs": [
    {
     "name": "stdout",
     "output_type": "stream",
     "text": [
      "Tests Passed\n"
     ]
    }
   ],
   "source": [
    "import numpy as np\n",
    "import problem_unittests as tests\n",
    "import utils\n",
    "\n",
    "def create_lookup_tables(text):\n",
    "    \"\"\"\n",
    "    Create lookup tables for vocabulary\n",
    "    :param text: The text of tv scripts split into words\n",
    "    :return: A tuple of dicts (vocab_to_int, int_to_vocab)\n",
    "    \"\"\"\n",
    "    # Use handy utils lib from embeddings tutorial:\n",
    "    vocab_to_int, int_to_vocab = utils.create_lookup_tables(text)\n",
    "    return vocab_to_int, int_to_vocab\n",
    "\n",
    "\n",
    "\"\"\"\n",
    "DON'T MODIFY ANYTHING IN THIS CELL THAT IS BELOW THIS LINE\n",
    "\"\"\"\n",
    "tests.test_create_lookup_tables(create_lookup_tables)"
   ]
  },
  {
   "cell_type": "markdown",
   "metadata": {
    "deletable": true,
    "editable": true
   },
   "source": [
    "### Tokenize Punctuation\n",
    "We'll be splitting the script into a word array using spaces as delimiters.  However, punctuations like periods and exclamation marks make it hard for the neural network to distinguish between the word \"bye\" and \"bye!\".\n",
    "\n",
    "Implement the function `token_lookup` to return a dict that will be used to tokenize symbols like \"!\" into \"||Exclamation_Mark||\".  Create a dictionary for the following symbols where the symbol is the key and value is the token:\n",
    "- Period ( . )\n",
    "- Comma ( , )\n",
    "- Quotation Mark ( \" )\n",
    "- Semicolon ( ; )\n",
    "- Exclamation mark ( ! )\n",
    "- Question mark ( ? )\n",
    "- Left Parentheses ( ( )\n",
    "- Right Parentheses ( ) )\n",
    "- Dash ( -- )\n",
    "- Return ( \\n )\n",
    "\n",
    "This dictionary will be used to token the symbols and add the delimiter (space) around it.  This separates the symbols as it's own word, making it easier for the neural network to predict on the next word. Make sure you don't use a token that could be confused as a word. Instead of using the token \"dash\", try using something like \"||dash||\"."
   ]
  },
  {
   "cell_type": "code",
   "execution_count": 4,
   "metadata": {
    "collapsed": false,
    "deletable": true,
    "editable": true
   },
   "outputs": [
    {
     "name": "stdout",
     "output_type": "stream",
     "text": [
      "Tests Passed\n"
     ]
    }
   ],
   "source": [
    "def token_lookup():\n",
    "    \"\"\"\n",
    "    Generate a dict to turn punctuation into a token.\n",
    "    :return: Tokenize dictionary where the key is the punctuation and the value is the token\n",
    "    \"\"\"\n",
    "    # TODO: Implement Function\n",
    "    x = dict([('.', '||Period||'), \n",
    "             (',', '||Comma||'), \n",
    "             ('\"', '||Quotation_Mark||'), \n",
    "             (';', '||Semicolon||'), \n",
    "             ('!', '||Exclamation_Mark||'), \n",
    "             ('?', '||Question_Mark||'), \n",
    "             ('(', '||Left_Parentheses||'), \n",
    "             (')', '||Right_Parentheses||'), \n",
    "             ('--', '||Dash||'), \n",
    "             ('\\n', '||Return||')]);\n",
    "    return x\n",
    "\n",
    "\"\"\"\n",
    "DON'T MODIFY ANYTHING IN THIS CELL THAT IS BELOW THIS LINE\n",
    "\"\"\"\n",
    "tests.test_tokenize(token_lookup)"
   ]
  },
  {
   "cell_type": "markdown",
   "metadata": {
    "deletable": true,
    "editable": true
   },
   "source": [
    "## Preprocess all the data and save it\n",
    "Running the code cell below will preprocess all the data and save it to file."
   ]
  },
  {
   "cell_type": "code",
   "execution_count": 5,
   "metadata": {
    "collapsed": false,
    "deletable": true,
    "editable": true
   },
   "outputs": [],
   "source": [
    "\"\"\"\n",
    "DON'T MODIFY ANYTHING IN THIS CELL\n",
    "\"\"\"\n",
    "# Preprocess Training, Validation, and Testing Data\n",
    "helper.preprocess_and_save_data(data_dir, token_lookup, create_lookup_tables)"
   ]
  },
  {
   "cell_type": "markdown",
   "metadata": {
    "deletable": true,
    "editable": true
   },
   "source": [
    "# Check Point\n",
    "This is your first checkpoint. If you ever decide to come back to this notebook or have to restart the notebook, you can start from here. The preprocessed data has been saved to disk."
   ]
  },
  {
   "cell_type": "code",
   "execution_count": 6,
   "metadata": {
    "collapsed": true,
    "deletable": true,
    "editable": true
   },
   "outputs": [],
   "source": [
    "\"\"\"\n",
    "DON'T MODIFY ANYTHING IN THIS CELL\n",
    "\"\"\"\n",
    "import helper\n",
    "import numpy as np\n",
    "import problem_unittests as tests\n",
    "\n",
    "int_text, vocab_to_int, int_to_vocab, token_dict = helper.load_preprocess()"
   ]
  },
  {
   "cell_type": "markdown",
   "metadata": {
    "deletable": true,
    "editable": true
   },
   "source": [
    "## Build the Neural Network\n",
    "You'll build the components necessary to build a RNN by implementing the following functions below:\n",
    "- get_inputs\n",
    "- get_init_cell\n",
    "- get_embed\n",
    "- build_rnn\n",
    "- build_nn\n",
    "- get_batches\n",
    "\n",
    "### Check the Version of TensorFlow and Access to GPU"
   ]
  },
  {
   "cell_type": "code",
   "execution_count": 7,
   "metadata": {
    "collapsed": false,
    "deletable": true,
    "editable": true
   },
   "outputs": [
    {
     "name": "stdout",
     "output_type": "stream",
     "text": [
      "TensorFlow Version: 1.2.1\n",
      "Default GPU Device: /gpu:0\n"
     ]
    }
   ],
   "source": [
    "\"\"\"\n",
    "DON'T MODIFY ANYTHING IN THIS CELL\n",
    "\"\"\"\n",
    "from distutils.version import LooseVersion\n",
    "import warnings\n",
    "import tensorflow as tf\n",
    "\n",
    "# Check TensorFlow Version\n",
    "assert LooseVersion(tf.__version__) >= LooseVersion('1.0'), 'Please use TensorFlow version 1.0 or newer'\n",
    "print('TensorFlow Version: {}'.format(tf.__version__))\n",
    "\n",
    "# Check for a GPU\n",
    "if not tf.test.gpu_device_name():\n",
    "    warnings.warn('No GPU found. Please use a GPU to train your neural network.')\n",
    "else:\n",
    "    print('Default GPU Device: {}'.format(tf.test.gpu_device_name()))"
   ]
  },
  {
   "cell_type": "markdown",
   "metadata": {
    "deletable": true,
    "editable": true
   },
   "source": [
    "### Input\n",
    "Implement the `get_inputs()` function to create TF Placeholders for the Neural Network.  It should create the following placeholders:\n",
    "- Input text placeholder named \"input\" using the [TF Placeholder](https://www.tensorflow.org/api_docs/python/tf/placeholder) `name` parameter.\n",
    "- Targets placeholder\n",
    "- Learning Rate placeholder\n",
    "\n",
    "Return the placeholders in the following tuple `(Input, Targets, LearningRate)`"
   ]
  },
  {
   "cell_type": "code",
   "execution_count": 8,
   "metadata": {
    "collapsed": false,
    "deletable": true,
    "editable": true
   },
   "outputs": [
    {
     "name": "stdout",
     "output_type": "stream",
     "text": [
      "Tests Passed\n"
     ]
    }
   ],
   "source": [
    "def get_inputs():\n",
    "    \"\"\"\n",
    "    Create TF Placeholders for input, targets, and learning rate.\n",
    "    :return: Tuple (input, targets, learning rate)\n",
    "    \"\"\"\n",
    "    Input = tf.placeholder(tf.int32, [None, None], name='input')\n",
    "    Targets = tf.placeholder(tf.int32, [None, None], name='Targets')\n",
    "    LearningRate = tf.placeholder(tf.float32, name='LearningRate')\n",
    "    return Input, Targets, LearningRate\n",
    "\n",
    "\n",
    "\"\"\"\n",
    "DON'T MODIFY ANYTHING IN THIS CELL THAT IS BELOW THIS LINE\n",
    "\"\"\"\n",
    "tests.test_get_inputs(get_inputs)"
   ]
  },
  {
   "cell_type": "markdown",
   "metadata": {
    "deletable": true,
    "editable": true
   },
   "source": [
    "### Build RNN Cell and Initialize\n",
    "Stack one or more [`BasicLSTMCells`](https://www.tensorflow.org/api_docs/python/tf/contrib/rnn/BasicLSTMCell) in a [`MultiRNNCell`](https://www.tensorflow.org/api_docs/python/tf/contrib/rnn/MultiRNNCell).\n",
    "- The Rnn size should be set using `rnn_size`\n",
    "- Initalize Cell State using the MultiRNNCell's [`zero_state()`](https://www.tensorflow.org/api_docs/python/tf/contrib/rnn/MultiRNNCell#zero_state) function\n",
    "    - Apply the name \"initial_state\" to the initial state using [`tf.identity()`](https://www.tensorflow.org/api_docs/python/tf/identity)\n",
    "\n",
    "Return the cell and initial state in the following tuple `(Cell, InitialState)`"
   ]
  },
  {
   "cell_type": "code",
   "execution_count": 31,
   "metadata": {
    "collapsed": false,
    "deletable": true,
    "editable": true
   },
   "outputs": [
    {
     "name": "stdout",
     "output_type": "stream",
     "text": [
      "Tests Passed\n"
     ]
    }
   ],
   "source": [
    "def get_init_cell(batch_size, rnn_size):\n",
    "    \"\"\"\n",
    "    Create an RNN Cell and initialize it.\n",
    "    :param batch_size: Size of batches\n",
    "    :param rnn_size: Size of RNNs\n",
    "    :return: Tuple (cell, initialize state)\n",
    "    \"\"\"\n",
    "    keep_prob1 = 0.9875\n",
    "    \n",
    "    lstm0 = tf.contrib.rnn.BasicLSTMCell(rnn_size)\n",
    "    lstm1 = tf.contrib.rnn.BasicLSTMCell(rnn_size)\n",
    "    lstm2 = tf.contrib.rnn.BasicLSTMCell(rnn_size)\n",
    "    cell = tf.contrib.rnn.MultiRNNCell([lstm0, lstm1, lstm2])\n",
    "    initial_state = cell.zero_state(batch_size, tf.float32)\n",
    "    initial_state = tf.identity(input=initial_state,name=\"initial_state\")\n",
    "    return cell, initial_state\n",
    "\n",
    "\n",
    "\"\"\"\n",
    "DON'T MODIFY ANYTHING IN THIS CELL THAT IS BELOW THIS LINE\n",
    "\"\"\"\n",
    "tests.test_get_init_cell(get_init_cell)"
   ]
  },
  {
   "cell_type": "markdown",
   "metadata": {
    "deletable": true,
    "editable": true
   },
   "source": [
    "### Word Embedding\n",
    "Apply embedding to `input_data` using TensorFlow.  Return the embedded sequence."
   ]
  },
  {
   "cell_type": "code",
   "execution_count": 32,
   "metadata": {
    "collapsed": false,
    "deletable": true,
    "editable": true
   },
   "outputs": [
    {
     "name": "stdout",
     "output_type": "stream",
     "text": [
      "Tests Passed\n"
     ]
    }
   ],
   "source": [
    "def get_embed(input_data, vocab_size, embed_dim):\n",
    "    \"\"\"\n",
    "    Create embedding for <input_data>.\n",
    "    :param input_data: TF placeholder for text input.\n",
    "    :param vocab_size: Number of words in vocabulary.\n",
    "    :param embed_dim: Number of embedding dimensions\n",
    "    :return: Embedded input.\n",
    "    \"\"\"\n",
    "    embedding = tf.Variable(tf.random_uniform((vocab_size, embed_dim), -1, 1))\n",
    "    embed = tf.nn.embedding_lookup(embedding, input_data)\n",
    "    return embed\n",
    "\n",
    "\n",
    "\"\"\"\n",
    "DON'T MODIFY ANYTHING IN THIS CELL THAT IS BELOW THIS LINE\n",
    "\"\"\"\n",
    "tests.test_get_embed(get_embed)"
   ]
  },
  {
   "cell_type": "markdown",
   "metadata": {
    "deletable": true,
    "editable": true
   },
   "source": [
    "### Build RNN\n",
    "You created a RNN Cell in the `get_init_cell()` function.  Time to use the cell to create a RNN.\n",
    "- Build the RNN using the [`tf.nn.dynamic_rnn()`](https://www.tensorflow.org/api_docs/python/tf/nn/dynamic_rnn)\n",
    " - Apply the name \"final_state\" to the final state using [`tf.identity()`](https://www.tensorflow.org/api_docs/python/tf/identity)\n",
    "\n",
    "Return the outputs and final_state state in the following tuple `(Outputs, FinalState)` "
   ]
  },
  {
   "cell_type": "code",
   "execution_count": 33,
   "metadata": {
    "collapsed": false,
    "deletable": true,
    "editable": true
   },
   "outputs": [
    {
     "name": "stdout",
     "output_type": "stream",
     "text": [
      "Tests Passed\n"
     ]
    }
   ],
   "source": [
    "def build_rnn(cell, inputs):\n",
    "    \"\"\"\n",
    "    Create a RNN using a RNN Cell\n",
    "    :param cell: RNN Cell\n",
    "    :param inputs: Input text data\n",
    "    :return: Tuple (Outputs, Final State)\n",
    "    \"\"\"\n",
    "    outputs, final_state = tf.nn.dynamic_rnn(cell, inputs, dtype=tf.float32)\n",
    "    final_state = tf.identity(input=final_state,name=\"final_state\")\n",
    "    return outputs, final_state\n",
    "\n",
    "\n",
    "\"\"\"\n",
    "DON'T MODIFY ANYTHING IN THIS CELL THAT IS BELOW THIS LINE\n",
    "\"\"\"\n",
    "tests.test_build_rnn(build_rnn)"
   ]
  },
  {
   "cell_type": "markdown",
   "metadata": {
    "deletable": true,
    "editable": true
   },
   "source": [
    "### Build the Neural Network\n",
    "Apply the functions you implemented above to:\n",
    "- Apply embedding to `input_data` using your `get_embed(input_data, vocab_size, embed_dim)` function.\n",
    "- Build RNN using `cell` and your `build_rnn(cell, inputs)` function.\n",
    "- Apply a fully connected layer with a linear activation and `vocab_size` as the number of outputs.\n",
    "\n",
    "Return the logits and final state in the following tuple (Logits, FinalState) "
   ]
  },
  {
   "cell_type": "code",
   "execution_count": 34,
   "metadata": {
    "collapsed": false,
    "deletable": true,
    "editable": true
   },
   "outputs": [
    {
     "name": "stdout",
     "output_type": "stream",
     "text": [
      "Tests Passed\n"
     ]
    }
   ],
   "source": [
    "def build_nn(cell, rnn_size, input_data, vocab_size, embed_dim):\n",
    "    \"\"\"\n",
    "    Build part of the neural network\n",
    "    :param cell: RNN cell\n",
    "    :param rnn_size: Size of rnns\n",
    "    :param input_data: Input data\n",
    "    :param vocab_size: Vocabulary size\n",
    "    :param embed_dim: Number of embedding dimensions\n",
    "    :return: Tuple (Logits, FinalState)\n",
    "    \"\"\"\n",
    "    embed = get_embed(input_data, vocab_size, rnn_size)\n",
    "    outputs, final_state = build_rnn(cell, embed)\n",
    "    predictions = tf.contrib.layers.fully_connected(outputs, vocab_size, activation_fn=None)\n",
    "    return predictions, final_state\n",
    "\n",
    "\n",
    "\"\"\"\n",
    "DON'T MODIFY ANYTHING IN THIS CELL THAT IS BELOW THIS LINE\n",
    "\"\"\"\n",
    "tests.test_build_nn(build_nn)"
   ]
  },
  {
   "cell_type": "markdown",
   "metadata": {
    "deletable": true,
    "editable": true
   },
   "source": [
    "### Batches\n",
    "Implement `get_batches` to create batches of input and targets using `int_text`.  The batches should be a Numpy array with the shape `(number of batches, 2, batch size, sequence length)`. Each batch contains two elements:\n",
    "- The first element is a single batch of **input** with the shape `[batch size, sequence length]`\n",
    "- The second element is a single batch of **targets** with the shape `[batch size, sequence length]`\n",
    "\n",
    "If you can't fill the last batch with enough data, drop the last batch.\n",
    "\n",
    "For exmple, `get_batches([1, 2, 3, 4, 5, 6, 7, 8, 9, 10, 11, 12, 13, 14, 15, 16, 17, 18, 19, 20], 3, 2)` would return a Numpy array of the following:\n",
    "```\n",
    "[\n",
    "  # First Batch\n",
    "  [\n",
    "    # Batch of Input\n",
    "    [[ 1  2], [ 7  8], [13 14]]\n",
    "    # Batch of targets\n",
    "    [[ 2  3], [ 8  9], [14 15]]\n",
    "  ]\n",
    "\n",
    "  # Second Batch\n",
    "  [\n",
    "    # Batch of Input\n",
    "    [[ 3  4], [ 9 10], [15 16]]\n",
    "    # Batch of targets\n",
    "    [[ 4  5], [10 11], [16 17]]\n",
    "  ]\n",
    "\n",
    "  # Third Batch\n",
    "  [\n",
    "    # Batch of Input\n",
    "    [[ 5  6], [11 12], [17 18]]\n",
    "    # Batch of targets\n",
    "    [[ 6  7], [12 13], [18  1]]\n",
    "  ]\n",
    "]\n",
    "```\n",
    "\n",
    "Notice that the last target value in the last batch is the first input value of the first batch. In this case, `1`. This is a common technique used when creating sequence batches, although it is rather unintuitive."
   ]
  },
  {
   "cell_type": "code",
   "execution_count": 35,
   "metadata": {
    "collapsed": false,
    "deletable": true,
    "editable": true
   },
   "outputs": [
    {
     "name": "stdout",
     "output_type": "stream",
     "text": [
      "Tests Passed\n"
     ]
    }
   ],
   "source": [
    "def get_batches(int_text, batch_size, seq_length):\n",
    "    \"\"\"\n",
    "    Return batches of input and target\n",
    "    :param int_text: Text with the words replaced by their ids\n",
    "    :param batch_size: The size of batch\n",
    "    :param seq_length: The length of sequence\n",
    "    :return: Batches as a Numpy array\n",
    "    \"\"\"\n",
    "    \n",
    "    n_batches = len(int_text) // int(batch_size * seq_length)\n",
    "    # only full batches\n",
    "    x = np.array(int_text[: n_batches * batch_size * seq_length])\n",
    "    # First elm -> end\n",
    "    y = np.roll(x,-1)\n",
    "\n",
    "    batchX = np.split(x.reshape(batch_size, -1), n_batches, 1)\n",
    "    batchY = np.split(y.reshape(batch_size, -1), n_batches, 1)\n",
    "    \n",
    "    return np.array(list(zip(batchX, batchY)))\n",
    "\n",
    "\n",
    "\"\"\"\n",
    "DON'T MODIFY ANYTHING IN THIS CELL THAT IS BELOW THIS LINE\n",
    "\"\"\"\n",
    "tests.test_get_batches(get_batches)"
   ]
  },
  {
   "cell_type": "markdown",
   "metadata": {
    "deletable": true,
    "editable": true
   },
   "source": [
    "## Neural Network Training\n",
    "### Hyperparameters\n",
    "Tune the following parameters:\n",
    "\n",
    "- Set `num_epochs` to the number of epochs.\n",
    "- Set `batch_size` to the batch size.\n",
    "- Set `rnn_size` to the size of the RNNs.\n",
    "- Set `embed_dim` to the size of the embedding.\n",
    "- Set `seq_length` to the length of sequence.\n",
    "- Set `learning_rate` to the learning rate.\n",
    "- Set `show_every_n_batches` to the number of batches the neural network should print progress."
   ]
  },
  {
   "cell_type": "code",
   "execution_count": 44,
   "metadata": {
    "collapsed": true,
    "deletable": true,
    "editable": true
   },
   "outputs": [],
   "source": [
    "# Number of Epochs\n",
    "num_epochs = 70\n",
    "# Batch Size\n",
    "batch_size = 42\n",
    "# RNN Size\n",
    "rnn_size = 700\n",
    "# Embedding Dimension Size\n",
    "embed_dim = 512\n",
    "# Sequence Length\n",
    "seq_length = 24\n",
    "# Learning Rate\n",
    "learning_rate = 0.001\n",
    "# Show stats for every n number of batches\n",
    "show_every_n_batches = 10\n",
    "\n",
    "\"\"\"\n",
    "DON'T MODIFY ANYTHING IN THIS CELL THAT IS BELOW THIS LINE\n",
    "\"\"\"\n",
    "save_dir = './save'"
   ]
  },
  {
   "cell_type": "markdown",
   "metadata": {
    "deletable": true,
    "editable": true
   },
   "source": [
    "### Build the Graph\n",
    "Build the graph using the neural network you implemented."
   ]
  },
  {
   "cell_type": "code",
   "execution_count": 45,
   "metadata": {
    "collapsed": false,
    "deletable": true,
    "editable": true
   },
   "outputs": [],
   "source": [
    "\"\"\"\n",
    "DON'T MODIFY ANYTHING IN THIS CELL\n",
    "\"\"\"\n",
    "from tensorflow.contrib import seq2seq\n",
    "\n",
    "train_graph = tf.Graph()\n",
    "with train_graph.as_default():\n",
    "    vocab_size = len(int_to_vocab)\n",
    "    input_text, targets, lr = get_inputs()\n",
    "    input_data_shape = tf.shape(input_text)\n",
    "    cell, initial_state = get_init_cell(input_data_shape[0], rnn_size)\n",
    "    logits, final_state = build_nn(cell, rnn_size, input_text, vocab_size, embed_dim)\n",
    "\n",
    "    # Probabilities for generating words\n",
    "    probs = tf.nn.softmax(logits, name='probs')\n",
    "\n",
    "    # Loss function\n",
    "    cost = seq2seq.sequence_loss(\n",
    "        logits,\n",
    "        targets,\n",
    "        tf.ones([input_data_shape[0], input_data_shape[1]]))\n",
    "\n",
    "    # Optimizer\n",
    "    optimizer = tf.train.AdamOptimizer(lr)\n",
    "\n",
    "    # Gradient Clipping\n",
    "    gradients = optimizer.compute_gradients(cost)\n",
    "    capped_gradients = [(tf.clip_by_value(grad, -1., 1.), var) for grad, var in gradients if grad is not None]\n",
    "    train_op = optimizer.apply_gradients(capped_gradients)"
   ]
  },
  {
   "cell_type": "markdown",
   "metadata": {
    "deletable": true,
    "editable": true
   },
   "source": [
    "## Train\n",
    "Train the neural network on the preprocessed data.  If you have a hard time getting a good loss, check the [forums](https://discussions.udacity.com/) to see if anyone is having the same problem."
   ]
  },
  {
   "cell_type": "code",
   "execution_count": 46,
   "metadata": {
    "collapsed": false,
    "deletable": true,
    "editable": true
   },
   "outputs": [
    {
     "name": "stdout",
     "output_type": "stream",
     "text": [
      "Epoch   0 Batch    0/68   train_loss = 8.822\n",
      "Epoch   0 Batch   10/68   train_loss = 6.569\n",
      "Epoch   0 Batch   20/68   train_loss = 6.483\n",
      "Epoch   0 Batch   30/68   train_loss = 6.689\n",
      "Epoch   0 Batch   40/68   train_loss = 6.456\n",
      "Epoch   0 Batch   50/68   train_loss = 6.063\n",
      "Epoch   0 Batch   60/68   train_loss = 6.116\n",
      "Epoch   1 Batch    2/68   train_loss = 6.404\n",
      "Epoch   1 Batch   12/68   train_loss = 6.107\n",
      "Epoch   1 Batch   22/68   train_loss = 6.159\n",
      "Epoch   1 Batch   32/68   train_loss = 6.161\n",
      "Epoch   1 Batch   42/68   train_loss = 5.960\n",
      "Epoch   1 Batch   52/68   train_loss = 6.100\n",
      "Epoch   1 Batch   62/68   train_loss = 6.110\n",
      "Epoch   2 Batch    4/68   train_loss = 6.095\n",
      "Epoch   2 Batch   14/68   train_loss = 6.110\n",
      "Epoch   2 Batch   24/68   train_loss = 5.956\n",
      "Epoch   2 Batch   34/68   train_loss = 6.001\n",
      "Epoch   2 Batch   44/68   train_loss = 5.825\n",
      "Epoch   2 Batch   54/68   train_loss = 6.009\n",
      "Epoch   2 Batch   64/68   train_loss = 5.848\n",
      "Epoch   3 Batch    6/68   train_loss = 5.983\n",
      "Epoch   3 Batch   16/68   train_loss = 5.953\n",
      "Epoch   3 Batch   26/68   train_loss = 5.969\n",
      "Epoch   3 Batch   36/68   train_loss = 5.649\n",
      "Epoch   3 Batch   46/68   train_loss = 5.936\n",
      "Epoch   3 Batch   56/68   train_loss = 5.862\n",
      "Epoch   3 Batch   66/68   train_loss = 5.648\n",
      "Epoch   4 Batch    8/68   train_loss = 5.736\n",
      "Epoch   4 Batch   18/68   train_loss = 5.968\n",
      "Epoch   4 Batch   28/68   train_loss = 5.603\n",
      "Epoch   4 Batch   38/68   train_loss = 5.852\n",
      "Epoch   4 Batch   48/68   train_loss = 5.788\n",
      "Epoch   4 Batch   58/68   train_loss = 5.679\n",
      "Epoch   5 Batch    0/68   train_loss = 5.711\n",
      "Epoch   5 Batch   10/68   train_loss = 5.754\n",
      "Epoch   5 Batch   20/68   train_loss = 5.580\n",
      "Epoch   5 Batch   30/68   train_loss = 5.766\n",
      "Epoch   5 Batch   40/68   train_loss = 5.587\n",
      "Epoch   5 Batch   50/68   train_loss = 5.339\n",
      "Epoch   5 Batch   60/68   train_loss = 5.304\n",
      "Epoch   6 Batch    2/68   train_loss = 5.735\n",
      "Epoch   6 Batch   12/68   train_loss = 5.504\n",
      "Epoch   6 Batch   22/68   train_loss = 5.546\n",
      "Epoch   6 Batch   32/68   train_loss = 5.516\n",
      "Epoch   6 Batch   42/68   train_loss = 5.279\n",
      "Epoch   6 Batch   52/68   train_loss = 5.363\n",
      "Epoch   6 Batch   62/68   train_loss = 5.372\n",
      "Epoch   7 Batch    4/68   train_loss = 5.352\n",
      "Epoch   7 Batch   14/68   train_loss = 5.364\n",
      "Epoch   7 Batch   24/68   train_loss = 5.238\n",
      "Epoch   7 Batch   34/68   train_loss = 5.226\n",
      "Epoch   7 Batch   44/68   train_loss = 5.085\n",
      "Epoch   7 Batch   54/68   train_loss = 5.240\n",
      "Epoch   7 Batch   64/68   train_loss = 5.037\n",
      "Epoch   8 Batch    6/68   train_loss = 5.209\n",
      "Epoch   8 Batch   16/68   train_loss = 5.111\n",
      "Epoch   8 Batch   26/68   train_loss = 5.187\n",
      "Epoch   8 Batch   36/68   train_loss = 4.781\n",
      "Epoch   8 Batch   46/68   train_loss = 5.063\n",
      "Epoch   8 Batch   56/68   train_loss = 4.877\n",
      "Epoch   8 Batch   66/68   train_loss = 4.689\n",
      "Epoch   9 Batch    8/68   train_loss = 4.758\n",
      "Epoch   9 Batch   18/68   train_loss = 5.002\n",
      "Epoch   9 Batch   28/68   train_loss = 4.651\n",
      "Epoch   9 Batch   38/68   train_loss = 4.915\n",
      "Epoch   9 Batch   48/68   train_loss = 4.790\n",
      "Epoch   9 Batch   58/68   train_loss = 4.706\n",
      "Epoch  10 Batch    0/68   train_loss = 4.657\n",
      "Epoch  10 Batch   10/68   train_loss = 4.727\n",
      "Epoch  10 Batch   20/68   train_loss = 4.569\n",
      "Epoch  10 Batch   30/68   train_loss = 4.783\n",
      "Epoch  10 Batch   40/68   train_loss = 4.505\n",
      "Epoch  10 Batch   50/68   train_loss = 4.322\n",
      "Epoch  10 Batch   60/68   train_loss = 4.269\n",
      "Epoch  11 Batch    2/68   train_loss = 4.627\n",
      "Epoch  11 Batch   12/68   train_loss = 4.488\n",
      "Epoch  11 Batch   22/68   train_loss = 4.512\n",
      "Epoch  11 Batch   32/68   train_loss = 4.478\n",
      "Epoch  11 Batch   42/68   train_loss = 4.278\n",
      "Epoch  11 Batch   52/68   train_loss = 4.321\n",
      "Epoch  11 Batch   62/68   train_loss = 4.299\n",
      "Epoch  12 Batch    4/68   train_loss = 4.427\n",
      "Epoch  12 Batch   14/68   train_loss = 4.472\n",
      "Epoch  12 Batch   24/68   train_loss = 4.309\n",
      "Epoch  12 Batch   34/68   train_loss = 4.325\n",
      "Epoch  12 Batch   44/68   train_loss = 4.197\n",
      "Epoch  12 Batch   54/68   train_loss = 4.321\n",
      "Epoch  12 Batch   64/68   train_loss = 4.199\n",
      "Epoch  13 Batch    6/68   train_loss = 4.449\n",
      "Epoch  13 Batch   16/68   train_loss = 4.369\n",
      "Epoch  13 Batch   26/68   train_loss = 4.324\n",
      "Epoch  13 Batch   36/68   train_loss = 4.030\n",
      "Epoch  13 Batch   46/68   train_loss = 4.308\n",
      "Epoch  13 Batch   56/68   train_loss = 4.105\n",
      "Epoch  13 Batch   66/68   train_loss = 4.021\n",
      "Epoch  14 Batch    8/68   train_loss = 4.072\n",
      "Epoch  14 Batch   18/68   train_loss = 4.279\n",
      "Epoch  14 Batch   28/68   train_loss = 3.940\n",
      "Epoch  14 Batch   38/68   train_loss = 4.154\n",
      "Epoch  14 Batch   48/68   train_loss = 4.075\n",
      "Epoch  14 Batch   58/68   train_loss = 4.064\n",
      "Epoch  15 Batch    0/68   train_loss = 4.016\n",
      "Epoch  15 Batch   10/68   train_loss = 4.059\n",
      "Epoch  15 Batch   20/68   train_loss = 3.931\n",
      "Epoch  15 Batch   30/68   train_loss = 4.090\n",
      "Epoch  15 Batch   40/68   train_loss = 3.821\n",
      "Epoch  15 Batch   50/68   train_loss = 3.737\n",
      "Epoch  15 Batch   60/68   train_loss = 3.761\n",
      "Epoch  16 Batch    2/68   train_loss = 3.992\n",
      "Epoch  16 Batch   12/68   train_loss = 3.903\n",
      "Epoch  16 Batch   22/68   train_loss = 3.903\n",
      "Epoch  16 Batch   32/68   train_loss = 3.766\n",
      "Epoch  16 Batch   42/68   train_loss = 3.676\n",
      "Epoch  16 Batch   52/68   train_loss = 3.725\n",
      "Epoch  16 Batch   62/68   train_loss = 3.751\n",
      "Epoch  17 Batch    4/68   train_loss = 3.804\n",
      "Epoch  17 Batch   14/68   train_loss = 3.813\n",
      "Epoch  17 Batch   24/68   train_loss = 3.723\n",
      "Epoch  17 Batch   34/68   train_loss = 3.678\n",
      "Epoch  17 Batch   44/68   train_loss = 3.604\n",
      "Epoch  17 Batch   54/68   train_loss = 3.653\n",
      "Epoch  17 Batch   64/68   train_loss = 3.534\n",
      "Epoch  18 Batch    6/68   train_loss = 3.822\n",
      "Epoch  18 Batch   16/68   train_loss = 3.686\n",
      "Epoch  18 Batch   26/68   train_loss = 3.627\n",
      "Epoch  18 Batch   36/68   train_loss = 3.396\n",
      "Epoch  18 Batch   46/68   train_loss = 3.641\n",
      "Epoch  18 Batch   56/68   train_loss = 3.466\n",
      "Epoch  18 Batch   66/68   train_loss = 3.374\n",
      "Epoch  19 Batch    8/68   train_loss = 3.466\n",
      "Epoch  19 Batch   18/68   train_loss = 3.572\n",
      "Epoch  19 Batch   28/68   train_loss = 3.299\n",
      "Epoch  19 Batch   38/68   train_loss = 3.430\n",
      "Epoch  19 Batch   48/68   train_loss = 3.449\n",
      "Epoch  19 Batch   58/68   train_loss = 3.552\n",
      "Epoch  20 Batch    0/68   train_loss = 3.388\n",
      "Epoch  20 Batch   10/68   train_loss = 3.421\n",
      "Epoch  20 Batch   20/68   train_loss = 3.305\n",
      "Epoch  20 Batch   30/68   train_loss = 3.450\n",
      "Epoch  20 Batch   40/68   train_loss = 3.196\n",
      "Epoch  20 Batch   50/68   train_loss = 3.077\n",
      "Epoch  20 Batch   60/68   train_loss = 3.126\n",
      "Epoch  21 Batch    2/68   train_loss = 3.250\n",
      "Epoch  21 Batch   12/68   train_loss = 3.197\n",
      "Epoch  21 Batch   22/68   train_loss = 3.234\n",
      "Epoch  21 Batch   32/68   train_loss = 3.131\n",
      "Epoch  21 Batch   42/68   train_loss = 3.138\n",
      "Epoch  21 Batch   52/68   train_loss = 3.078\n",
      "Epoch  21 Batch   62/68   train_loss = 3.030\n",
      "Epoch  22 Batch    4/68   train_loss = 3.076\n",
      "Epoch  22 Batch   14/68   train_loss = 3.107\n",
      "Epoch  22 Batch   24/68   train_loss = 3.011\n",
      "Epoch  22 Batch   34/68   train_loss = 3.026\n",
      "Epoch  22 Batch   44/68   train_loss = 3.001\n",
      "Epoch  22 Batch   54/68   train_loss = 2.959\n",
      "Epoch  22 Batch   64/68   train_loss = 2.880\n",
      "Epoch  23 Batch    6/68   train_loss = 3.040\n",
      "Epoch  23 Batch   16/68   train_loss = 3.011\n",
      "Epoch  23 Batch   26/68   train_loss = 2.918\n",
      "Epoch  23 Batch   36/68   train_loss = 2.697\n",
      "Epoch  23 Batch   46/68   train_loss = 2.842\n",
      "Epoch  23 Batch   56/68   train_loss = 2.751\n",
      "Epoch  23 Batch   66/68   train_loss = 2.689\n",
      "Epoch  24 Batch    8/68   train_loss = 2.652\n",
      "Epoch  24 Batch   18/68   train_loss = 2.780\n",
      "Epoch  24 Batch   28/68   train_loss = 2.554\n",
      "Epoch  24 Batch   38/68   train_loss = 2.627\n",
      "Epoch  24 Batch   48/68   train_loss = 2.599\n",
      "Epoch  24 Batch   58/68   train_loss = 2.757\n",
      "Epoch  25 Batch    0/68   train_loss = 2.579\n",
      "Epoch  25 Batch   10/68   train_loss = 2.572\n",
      "Epoch  25 Batch   20/68   train_loss = 2.520\n",
      "Epoch  25 Batch   30/68   train_loss = 2.558\n",
      "Epoch  25 Batch   40/68   train_loss = 2.430\n",
      "Epoch  25 Batch   50/68   train_loss = 2.396\n",
      "Epoch  25 Batch   60/68   train_loss = 2.431\n",
      "Epoch  26 Batch    2/68   train_loss = 2.466\n",
      "Epoch  26 Batch   12/68   train_loss = 2.487\n",
      "Epoch  26 Batch   22/68   train_loss = 2.472\n",
      "Epoch  26 Batch   32/68   train_loss = 2.345\n",
      "Epoch  26 Batch   42/68   train_loss = 2.414\n",
      "Epoch  26 Batch   52/68   train_loss = 2.406\n",
      "Epoch  26 Batch   62/68   train_loss = 2.472\n",
      "Epoch  27 Batch    4/68   train_loss = 2.558\n",
      "Epoch  27 Batch   14/68   train_loss = 2.529\n",
      "Epoch  27 Batch   24/68   train_loss = 2.483\n",
      "Epoch  27 Batch   34/68   train_loss = 2.379\n",
      "Epoch  27 Batch   44/68   train_loss = 2.355\n",
      "Epoch  27 Batch   54/68   train_loss = 2.384\n",
      "Epoch  27 Batch   64/68   train_loss = 2.306\n",
      "Epoch  28 Batch    6/68   train_loss = 2.404\n",
      "Epoch  28 Batch   16/68   train_loss = 2.372\n",
      "Epoch  28 Batch   26/68   train_loss = 2.322\n",
      "Epoch  28 Batch   36/68   train_loss = 2.146\n",
      "Epoch  28 Batch   46/68   train_loss = 2.246\n",
      "Epoch  28 Batch   56/68   train_loss = 2.151\n",
      "Epoch  28 Batch   66/68   train_loss = 2.133\n",
      "Epoch  29 Batch    8/68   train_loss = 1.985\n",
      "Epoch  29 Batch   18/68   train_loss = 2.101\n",
      "Epoch  29 Batch   28/68   train_loss = 1.927\n",
      "Epoch  29 Batch   38/68   train_loss = 1.958\n",
      "Epoch  29 Batch   48/68   train_loss = 1.939\n",
      "Epoch  29 Batch   58/68   train_loss = 2.048\n",
      "Epoch  30 Batch    0/68   train_loss = 1.886\n",
      "Epoch  30 Batch   10/68   train_loss = 1.833\n",
      "Epoch  30 Batch   20/68   train_loss = 1.896\n",
      "Epoch  30 Batch   30/68   train_loss = 1.812\n",
      "Epoch  30 Batch   40/68   train_loss = 1.806\n",
      "Epoch  30 Batch   50/68   train_loss = 1.802\n",
      "Epoch  30 Batch   60/68   train_loss = 1.737\n",
      "Epoch  31 Batch    2/68   train_loss = 1.701\n",
      "Epoch  31 Batch   12/68   train_loss = 1.735\n",
      "Epoch  31 Batch   22/68   train_loss = 1.808\n",
      "Epoch  31 Batch   32/68   train_loss = 1.698\n",
      "Epoch  31 Batch   42/68   train_loss = 1.720\n",
      "Epoch  31 Batch   52/68   train_loss = 1.659\n",
      "Epoch  31 Batch   62/68   train_loss = 1.730\n",
      "Epoch  32 Batch    4/68   train_loss = 1.836\n",
      "Epoch  32 Batch   14/68   train_loss = 1.808\n",
      "Epoch  32 Batch   24/68   train_loss = 1.750\n",
      "Epoch  32 Batch   34/68   train_loss = 1.636\n",
      "Epoch  32 Batch   44/68   train_loss = 1.622\n",
      "Epoch  32 Batch   54/68   train_loss = 1.570\n",
      "Epoch  32 Batch   64/68   train_loss = 1.648\n",
      "Epoch  33 Batch    6/68   train_loss = 1.662\n",
      "Epoch  33 Batch   16/68   train_loss = 1.688\n",
      "Epoch  33 Batch   26/68   train_loss = 1.559\n",
      "Epoch  33 Batch   36/68   train_loss = 1.435\n",
      "Epoch  33 Batch   46/68   train_loss = 1.407\n",
      "Epoch  33 Batch   56/68   train_loss = 1.416\n",
      "Epoch  33 Batch   66/68   train_loss = 1.472\n",
      "Epoch  34 Batch    8/68   train_loss = 1.339\n",
      "Epoch  34 Batch   18/68   train_loss = 1.359\n",
      "Epoch  34 Batch   28/68   train_loss = 1.257\n",
      "Epoch  34 Batch   38/68   train_loss = 1.238\n",
      "Epoch  34 Batch   48/68   train_loss = 1.231\n",
      "Epoch  34 Batch   58/68   train_loss = 1.400\n",
      "Epoch  35 Batch    0/68   train_loss = 1.246\n",
      "Epoch  35 Batch   10/68   train_loss = 1.293\n",
      "Epoch  35 Batch   20/68   train_loss = 1.276\n",
      "Epoch  35 Batch   30/68   train_loss = 1.161\n",
      "Epoch  35 Batch   40/68   train_loss = 1.119\n",
      "Epoch  35 Batch   50/68   train_loss = 1.162\n",
      "Epoch  35 Batch   60/68   train_loss = 1.115\n",
      "Epoch  36 Batch    2/68   train_loss = 1.111\n",
      "Epoch  36 Batch   12/68   train_loss = 1.184\n",
      "Epoch  36 Batch   22/68   train_loss = 1.141\n",
      "Epoch  36 Batch   32/68   train_loss = 1.035\n",
      "Epoch  36 Batch   42/68   train_loss = 1.043\n",
      "Epoch  36 Batch   52/68   train_loss = 1.093\n",
      "Epoch  36 Batch   62/68   train_loss = 1.060\n",
      "Epoch  37 Batch    4/68   train_loss = 1.085\n",
      "Epoch  37 Batch   14/68   train_loss = 1.043\n",
      "Epoch  37 Batch   24/68   train_loss = 1.028\n",
      "Epoch  37 Batch   34/68   train_loss = 1.016\n",
      "Epoch  37 Batch   44/68   train_loss = 1.031\n",
      "Epoch  37 Batch   54/68   train_loss = 0.902\n",
      "Epoch  37 Batch   64/68   train_loss = 0.890\n",
      "Epoch  38 Batch    6/68   train_loss = 0.970\n",
      "Epoch  38 Batch   16/68   train_loss = 1.008\n",
      "Epoch  38 Batch   26/68   train_loss = 0.982\n",
      "Epoch  38 Batch   36/68   train_loss = 0.864\n",
      "Epoch  38 Batch   46/68   train_loss = 0.805\n",
      "Epoch  38 Batch   56/68   train_loss = 0.791\n",
      "Epoch  38 Batch   66/68   train_loss = 0.854\n",
      "Epoch  39 Batch    8/68   train_loss = 0.813\n",
      "Epoch  39 Batch   18/68   train_loss = 0.802\n",
      "Epoch  39 Batch   28/68   train_loss = 0.829\n",
      "Epoch  39 Batch   38/68   train_loss = 0.743\n",
      "Epoch  39 Batch   48/68   train_loss = 0.698\n",
      "Epoch  39 Batch   58/68   train_loss = 0.731\n",
      "Epoch  40 Batch    0/68   train_loss = 0.647\n",
      "Epoch  40 Batch   10/68   train_loss = 0.645\n",
      "Epoch  40 Batch   20/68   train_loss = 0.677\n",
      "Epoch  40 Batch   30/68   train_loss = 0.704\n",
      "Epoch  40 Batch   40/68   train_loss = 0.659\n",
      "Epoch  40 Batch   50/68   train_loss = 0.745\n",
      "Epoch  40 Batch   60/68   train_loss = 0.643\n",
      "Epoch  41 Batch    2/68   train_loss = 0.574\n",
      "Epoch  41 Batch   12/68   train_loss = 0.606\n",
      "Epoch  41 Batch   22/68   train_loss = 0.601\n",
      "Epoch  41 Batch   32/68   train_loss = 0.576\n",
      "Epoch  41 Batch   42/68   train_loss = 0.574\n",
      "Epoch  41 Batch   52/68   train_loss = 0.592\n",
      "Epoch  41 Batch   62/68   train_loss = 0.553\n",
      "Epoch  42 Batch    4/68   train_loss = 0.582\n",
      "Epoch  42 Batch   14/68   train_loss = 0.554\n",
      "Epoch  42 Batch   24/68   train_loss = 0.576\n",
      "Epoch  42 Batch   34/68   train_loss = 0.541\n",
      "Epoch  42 Batch   44/68   train_loss = 0.581\n",
      "Epoch  42 Batch   54/68   train_loss = 0.466\n",
      "Epoch  42 Batch   64/68   train_loss = 0.553\n",
      "Epoch  43 Batch    6/68   train_loss = 0.622\n",
      "Epoch  43 Batch   16/68   train_loss = 0.616\n",
      "Epoch  43 Batch   26/68   train_loss = 0.537\n",
      "Epoch  43 Batch   36/68   train_loss = 0.515\n",
      "Epoch  43 Batch   46/68   train_loss = 0.480\n",
      "Epoch  43 Batch   56/68   train_loss = 0.434\n",
      "Epoch  43 Batch   66/68   train_loss = 0.514\n",
      "Epoch  44 Batch    8/68   train_loss = 0.461\n",
      "Epoch  44 Batch   18/68   train_loss = 0.490\n",
      "Epoch  44 Batch   28/68   train_loss = 0.478\n",
      "Epoch  44 Batch   38/68   train_loss = 0.481\n",
      "Epoch  44 Batch   48/68   train_loss = 0.391\n",
      "Epoch  44 Batch   58/68   train_loss = 0.441\n",
      "Epoch  45 Batch    0/68   train_loss = 0.426\n",
      "Epoch  45 Batch   10/68   train_loss = 0.376\n",
      "Epoch  45 Batch   20/68   train_loss = 0.405\n",
      "Epoch  45 Batch   30/68   train_loss = 0.407\n",
      "Epoch  45 Batch   40/68   train_loss = 0.382\n",
      "Epoch  45 Batch   50/68   train_loss = 0.397\n",
      "Epoch  45 Batch   60/68   train_loss = 0.371\n",
      "Epoch  46 Batch    2/68   train_loss = 0.327\n",
      "Epoch  46 Batch   12/68   train_loss = 0.367\n",
      "Epoch  46 Batch   22/68   train_loss = 0.362\n",
      "Epoch  46 Batch   32/68   train_loss = 0.341\n",
      "Epoch  46 Batch   42/68   train_loss = 0.369\n",
      "Epoch  46 Batch   52/68   train_loss = 0.352\n",
      "Epoch  46 Batch   62/68   train_loss = 0.343\n",
      "Epoch  47 Batch    4/68   train_loss = 0.323\n",
      "Epoch  47 Batch   14/68   train_loss = 0.326\n",
      "Epoch  47 Batch   24/68   train_loss = 0.367\n",
      "Epoch  47 Batch   34/68   train_loss = 0.341\n",
      "Epoch  47 Batch   44/68   train_loss = 0.427\n",
      "Epoch  47 Batch   54/68   train_loss = 0.287\n",
      "Epoch  47 Batch   64/68   train_loss = 0.344\n",
      "Epoch  48 Batch    6/68   train_loss = 0.341\n",
      "Epoch  48 Batch   16/68   train_loss = 0.317\n",
      "Epoch  48 Batch   26/68   train_loss = 0.335\n",
      "Epoch  48 Batch   36/68   train_loss = 0.336\n",
      "Epoch  48 Batch   46/68   train_loss = 0.289\n",
      "Epoch  48 Batch   56/68   train_loss = 0.242\n",
      "Epoch  48 Batch   66/68   train_loss = 0.337\n",
      "Epoch  49 Batch    8/68   train_loss = 0.243\n",
      "Epoch  49 Batch   18/68   train_loss = 0.260\n",
      "Epoch  49 Batch   28/68   train_loss = 0.278\n",
      "Epoch  49 Batch   38/68   train_loss = 0.272\n",
      "Epoch  49 Batch   48/68   train_loss = 0.255\n",
      "Epoch  49 Batch   58/68   train_loss = 0.274\n",
      "Epoch  50 Batch    0/68   train_loss = 0.272\n",
      "Epoch  50 Batch   10/68   train_loss = 0.227\n",
      "Epoch  50 Batch   20/68   train_loss = 0.245\n",
      "Epoch  50 Batch   30/68   train_loss = 0.242\n",
      "Epoch  50 Batch   40/68   train_loss = 0.226\n",
      "Epoch  50 Batch   50/68   train_loss = 0.269\n",
      "Epoch  50 Batch   60/68   train_loss = 0.209\n",
      "Epoch  51 Batch    2/68   train_loss = 0.202\n",
      "Epoch  51 Batch   12/68   train_loss = 0.219\n",
      "Epoch  51 Batch   22/68   train_loss = 0.220\n",
      "Epoch  51 Batch   32/68   train_loss = 0.207\n",
      "Epoch  51 Batch   42/68   train_loss = 0.209\n",
      "Epoch  51 Batch   52/68   train_loss = 0.210\n",
      "Epoch  51 Batch   62/68   train_loss = 0.197\n",
      "Epoch  52 Batch    4/68   train_loss = 0.199\n",
      "Epoch  52 Batch   14/68   train_loss = 0.194\n",
      "Epoch  52 Batch   24/68   train_loss = 0.213\n",
      "Epoch  52 Batch   34/68   train_loss = 0.205\n",
      "Epoch  52 Batch   44/68   train_loss = 0.221\n",
      "Epoch  52 Batch   54/68   train_loss = 0.186\n",
      "Epoch  52 Batch   64/68   train_loss = 0.203\n",
      "Epoch  53 Batch    6/68   train_loss = 0.214\n",
      "Epoch  53 Batch   16/68   train_loss = 0.212\n",
      "Epoch  53 Batch   26/68   train_loss = 0.194\n",
      "Epoch  53 Batch   36/68   train_loss = 0.189\n",
      "Epoch  53 Batch   46/68   train_loss = 0.159\n",
      "Epoch  53 Batch   56/68   train_loss = 0.152\n",
      "Epoch  53 Batch   66/68   train_loss = 0.189\n",
      "Epoch  54 Batch    8/68   train_loss = 0.163\n",
      "Epoch  54 Batch   18/68   train_loss = 0.168\n",
      "Epoch  54 Batch   28/68   train_loss = 0.174\n",
      "Epoch  54 Batch   38/68   train_loss = 0.177\n",
      "Epoch  54 Batch   48/68   train_loss = 0.180\n",
      "Epoch  54 Batch   58/68   train_loss = 0.181\n",
      "Epoch  55 Batch    0/68   train_loss = 0.167\n",
      "Epoch  55 Batch   10/68   train_loss = 0.154\n",
      "Epoch  55 Batch   20/68   train_loss = 0.160\n",
      "Epoch  55 Batch   30/68   train_loss = 0.179\n",
      "Epoch  55 Batch   40/68   train_loss = 0.148\n",
      "Epoch  55 Batch   50/68   train_loss = 0.187\n",
      "Epoch  55 Batch   60/68   train_loss = 0.140\n",
      "Epoch  56 Batch    2/68   train_loss = 0.139\n",
      "Epoch  56 Batch   12/68   train_loss = 0.159\n",
      "Epoch  56 Batch   22/68   train_loss = 0.165\n",
      "Epoch  56 Batch   32/68   train_loss = 0.160\n",
      "Epoch  56 Batch   42/68   train_loss = 0.154\n",
      "Epoch  56 Batch   52/68   train_loss = 0.160\n",
      "Epoch  56 Batch   62/68   train_loss = 0.149\n",
      "Epoch  57 Batch    4/68   train_loss = 0.157\n",
      "Epoch  57 Batch   14/68   train_loss = 0.146\n",
      "Epoch  57 Batch   24/68   train_loss = 0.167\n",
      "Epoch  57 Batch   34/68   train_loss = 0.165\n",
      "Epoch  57 Batch   44/68   train_loss = 0.184\n",
      "Epoch  57 Batch   54/68   train_loss = 0.146\n",
      "Epoch  57 Batch   64/68   train_loss = 0.178\n",
      "Epoch  58 Batch    6/68   train_loss = 0.174\n",
      "Epoch  58 Batch   16/68   train_loss = 0.172\n",
      "Epoch  58 Batch   26/68   train_loss = 0.164\n",
      "Epoch  58 Batch   36/68   train_loss = 0.158\n",
      "Epoch  58 Batch   46/68   train_loss = 0.131\n",
      "Epoch  58 Batch   56/68   train_loss = 0.124\n",
      "Epoch  58 Batch   66/68   train_loss = 0.164\n",
      "Epoch  59 Batch    8/68   train_loss = 0.140\n",
      "Epoch  59 Batch   18/68   train_loss = 0.145\n",
      "Epoch  59 Batch   28/68   train_loss = 0.154\n",
      "Epoch  59 Batch   38/68   train_loss = 0.157\n",
      "Epoch  59 Batch   48/68   train_loss = 0.160\n",
      "Epoch  59 Batch   58/68   train_loss = 0.151\n",
      "Epoch  60 Batch    0/68   train_loss = 0.151\n",
      "Epoch  60 Batch   10/68   train_loss = 0.139\n",
      "Epoch  60 Batch   20/68   train_loss = 0.141\n",
      "Epoch  60 Batch   30/68   train_loss = 0.161\n",
      "Epoch  60 Batch   40/68   train_loss = 0.136\n",
      "Epoch  60 Batch   50/68   train_loss = 0.172\n",
      "Epoch  60 Batch   60/68   train_loss = 0.124\n",
      "Epoch  61 Batch    2/68   train_loss = 0.128\n",
      "Epoch  61 Batch   12/68   train_loss = 0.146\n",
      "Epoch  61 Batch   22/68   train_loss = 0.151\n",
      "Epoch  61 Batch   32/68   train_loss = 0.148\n",
      "Epoch  61 Batch   42/68   train_loss = 0.144\n",
      "Epoch  61 Batch   52/68   train_loss = 0.145\n",
      "Epoch  61 Batch   62/68   train_loss = 0.136\n",
      "Epoch  62 Batch    4/68   train_loss = 0.145\n",
      "Epoch  62 Batch   14/68   train_loss = 0.135\n",
      "Epoch  62 Batch   24/68   train_loss = 0.155\n",
      "Epoch  62 Batch   34/68   train_loss = 0.152\n",
      "Epoch  62 Batch   44/68   train_loss = 0.171\n",
      "Epoch  62 Batch   54/68   train_loss = 0.136\n",
      "Epoch  62 Batch   64/68   train_loss = 0.168\n",
      "Epoch  63 Batch    6/68   train_loss = 0.163\n",
      "Epoch  63 Batch   16/68   train_loss = 0.161\n",
      "Epoch  63 Batch   26/68   train_loss = 0.155\n",
      "Epoch  63 Batch   36/68   train_loss = 0.147\n",
      "Epoch  63 Batch   46/68   train_loss = 0.123\n",
      "Epoch  63 Batch   56/68   train_loss = 0.118\n",
      "Epoch  63 Batch   66/68   train_loss = 0.153\n",
      "Epoch  64 Batch    8/68   train_loss = 0.134\n",
      "Epoch  64 Batch   18/68   train_loss = 0.137\n",
      "Epoch  64 Batch   28/68   train_loss = 0.144\n",
      "Epoch  64 Batch   38/68   train_loss = 0.149\n",
      "Epoch  64 Batch   48/68   train_loss = 0.152\n",
      "Epoch  64 Batch   58/68   train_loss = 0.142\n",
      "Epoch  65 Batch    0/68   train_loss = 0.142\n",
      "Epoch  65 Batch   10/68   train_loss = 0.134\n",
      "Epoch  65 Batch   20/68   train_loss = 0.137\n",
      "Epoch  65 Batch   30/68   train_loss = 0.153\n",
      "Epoch  65 Batch   40/68   train_loss = 0.126\n",
      "Epoch  65 Batch   50/68   train_loss = 0.164\n",
      "Epoch  65 Batch   60/68   train_loss = 0.117\n",
      "Epoch  66 Batch    2/68   train_loss = 0.122\n",
      "Epoch  66 Batch   12/68   train_loss = 0.140\n",
      "Epoch  66 Batch   22/68   train_loss = 0.144\n",
      "Epoch  66 Batch   32/68   train_loss = 0.141\n",
      "Epoch  66 Batch   42/68   train_loss = 0.137\n",
      "Epoch  66 Batch   52/68   train_loss = 0.139\n",
      "Epoch  66 Batch   62/68   train_loss = 0.128\n",
      "Epoch  67 Batch    4/68   train_loss = 0.137\n",
      "Epoch  67 Batch   14/68   train_loss = 0.131\n",
      "Epoch  67 Batch   24/68   train_loss = 0.151\n",
      "Epoch  67 Batch   34/68   train_loss = 0.144\n",
      "Epoch  67 Batch   44/68   train_loss = 0.160\n",
      "Epoch  67 Batch   54/68   train_loss = 0.132\n",
      "Epoch  67 Batch   64/68   train_loss = 0.163\n",
      "Epoch  68 Batch    6/68   train_loss = 0.155\n",
      "Epoch  68 Batch   16/68   train_loss = 0.154\n",
      "Epoch  68 Batch   26/68   train_loss = 0.150\n",
      "Epoch  68 Batch   36/68   train_loss = 0.141\n",
      "Epoch  68 Batch   46/68   train_loss = 0.118\n",
      "Epoch  68 Batch   56/68   train_loss = 0.114\n",
      "Epoch  68 Batch   66/68   train_loss = 0.148\n",
      "Epoch  69 Batch    8/68   train_loss = 0.131\n",
      "Epoch  69 Batch   18/68   train_loss = 0.133\n",
      "Epoch  69 Batch   28/68   train_loss = 0.141\n",
      "Epoch  69 Batch   38/68   train_loss = 0.143\n",
      "Epoch  69 Batch   48/68   train_loss = 0.147\n",
      "Epoch  69 Batch   58/68   train_loss = 0.138\n",
      "Model Trained and Saved\n"
     ]
    }
   ],
   "source": [
    "\"\"\"\n",
    "DON'T MODIFY ANYTHING IN THIS CELL\n",
    "\"\"\"\n",
    "batches = get_batches(int_text, batch_size, seq_length)\n",
    "\n",
    "with tf.Session(graph=train_graph) as sess:\n",
    "    sess.run(tf.global_variables_initializer())\n",
    "\n",
    "    for epoch_i in range(num_epochs):\n",
    "        state = sess.run(initial_state, {input_text: batches[0][0]})\n",
    "\n",
    "        for batch_i, (x, y) in enumerate(batches):\n",
    "            feed = {\n",
    "                input_text: x,\n",
    "                targets: y,\n",
    "                initial_state: state,\n",
    "                lr: learning_rate}\n",
    "            train_loss, state, _ = sess.run([cost, final_state, train_op], feed)\n",
    "\n",
    "            # Show every <show_every_n_batches> batches\n",
    "            if (epoch_i * len(batches) + batch_i) % show_every_n_batches == 0:\n",
    "                print('Epoch {:>3} Batch {:>4}/{}   train_loss = {:.3f}'.format(\n",
    "                    epoch_i,\n",
    "                    batch_i,\n",
    "                    len(batches),\n",
    "                    train_loss))\n",
    "\n",
    "    # Save Model\n",
    "    saver = tf.train.Saver()\n",
    "    saver.save(sess, save_dir)\n",
    "    print('Model Trained and Saved')"
   ]
  },
  {
   "cell_type": "markdown",
   "metadata": {
    "deletable": true,
    "editable": true
   },
   "source": [
    "## Save Parameters\n",
    "Save `seq_length` and `save_dir` for generating a new TV script."
   ]
  },
  {
   "cell_type": "code",
   "execution_count": 47,
   "metadata": {
    "collapsed": true,
    "deletable": true,
    "editable": true
   },
   "outputs": [],
   "source": [
    "\"\"\"\n",
    "DON'T MODIFY ANYTHING IN THIS CELL\n",
    "\"\"\"\n",
    "# Save parameters for checkpoint\n",
    "helper.save_params((seq_length, save_dir))"
   ]
  },
  {
   "cell_type": "markdown",
   "metadata": {
    "deletable": true,
    "editable": true
   },
   "source": [
    "# Checkpoint"
   ]
  },
  {
   "cell_type": "code",
   "execution_count": 48,
   "metadata": {
    "collapsed": true,
    "deletable": true,
    "editable": true
   },
   "outputs": [],
   "source": [
    "\"\"\"\n",
    "DON'T MODIFY ANYTHING IN THIS CELL\n",
    "\"\"\"\n",
    "import tensorflow as tf\n",
    "import numpy as np\n",
    "import helper\n",
    "import problem_unittests as tests\n",
    "\n",
    "_, vocab_to_int, int_to_vocab, token_dict = helper.load_preprocess()\n",
    "seq_length, load_dir = helper.load_params()"
   ]
  },
  {
   "cell_type": "markdown",
   "metadata": {
    "deletable": true,
    "editable": true
   },
   "source": [
    "## Implement Generate Functions\n",
    "### Get Tensors\n",
    "Get tensors from `loaded_graph` using the function [`get_tensor_by_name()`](https://www.tensorflow.org/api_docs/python/tf/Graph#get_tensor_by_name).  Get the tensors using the following names:\n",
    "- \"input:0\"\n",
    "- \"initial_state:0\"\n",
    "- \"final_state:0\"\n",
    "- \"probs:0\"\n",
    "\n",
    "Return the tensors in the following tuple `(InputTensor, InitialStateTensor, FinalStateTensor, ProbsTensor)` "
   ]
  },
  {
   "cell_type": "code",
   "execution_count": 52,
   "metadata": {
    "collapsed": false,
    "deletable": true,
    "editable": true
   },
   "outputs": [
    {
     "name": "stdout",
     "output_type": "stream",
     "text": [
      "Tests Passed\n"
     ]
    }
   ],
   "source": [
    "def get_tensors(loaded_graph):\n",
    "    \"\"\"\n",
    "    Get input, initial state, final state, and probabilities tensor from <loaded_graph>\n",
    "    :param loaded_graph: TensorFlow graph loaded from file\n",
    "    :return: Tuple (InputTensor, InitialStateTensor, FinalStateTensor, ProbsTensor)\n",
    "    \"\"\"\n",
    "    InputTensor = loaded_graph.get_tensor_by_name(\"input:0\")\n",
    "    InitialStateTensor = loaded_graph.get_tensor_by_name(\"initial_state:0\")\n",
    "    FinalStateTensor = loaded_graph.get_tensor_by_name(\"final_state:0\")\n",
    "    ProbsTensor = loaded_graph.get_tensor_by_name(\"probs:0\")\n",
    "    \n",
    "    return InputTensor, InitialStateTensor, FinalStateTensor, ProbsTensor\n",
    "\n",
    "\"\"\"\n",
    "DON'T MODIFY ANYTHING IN THIS CELL THAT IS BELOW THIS LINE\n",
    "\"\"\"\n",
    "tests.test_get_tensors(get_tensors)"
   ]
  },
  {
   "cell_type": "markdown",
   "metadata": {
    "deletable": true,
    "editable": true
   },
   "source": [
    "### Choose Word\n",
    "Implement the `pick_word()` function to select the next word using `probabilities`."
   ]
  },
  {
   "cell_type": "code",
   "execution_count": 73,
   "metadata": {
    "collapsed": false,
    "deletable": true,
    "editable": true
   },
   "outputs": [
    {
     "name": "stdout",
     "output_type": "stream",
     "text": [
      "Tests Passed\n"
     ]
    }
   ],
   "source": [
    "def pick_word(probabilities, int_to_vocab):\n",
    "    \"\"\"\n",
    "    Pick the next word in the generated text\n",
    "    :param probabilities: Probabilites of the next word\n",
    "    :param int_to_vocab: Dictionary of word ids as the keys and words as the values\n",
    "    :return: String of the predicted word\n",
    "    \"\"\"\n",
    "\n",
    "    return int_to_vocab[np.argmax(probabilities)]\n",
    "\n",
    "\n",
    "\"\"\"\n",
    "DON'T MODIFY ANYTHING IN THIS CELL THAT IS BELOW THIS LINE\n",
    "\"\"\"\n",
    "tests.test_pick_word(pick_word)"
   ]
  },
  {
   "cell_type": "markdown",
   "metadata": {
    "deletable": true,
    "editable": true
   },
   "source": [
    "## Generate TV Script\n",
    "This will generate the TV script for you.  Set `gen_length` to the length of TV script you want to generate."
   ]
  },
  {
   "cell_type": "code",
   "execution_count": 75,
   "metadata": {
    "collapsed": false,
    "deletable": true,
    "editable": true
   },
   "outputs": [
    {
     "name": "stdout",
     "output_type": "stream",
     "text": [
      "INFO:tensorflow:Restoring parameters from ./save\n",
      "moe_szyslak:(lying) oh, it is. it is. just, uh, pull them stools up to the pool table... um, this is a great guy?\n",
      "homer_simpson:(to barflies) she's opening the power channel?\n",
      "moe_szyslak: okay, i'll keep your drug for the kids. who's to set a ticket of livin' for two around here, as at the ticket, two turned too drug to the ugly.\n",
      "carl_carlson: hey, there's a daughter ever given you happen to me?\n",
      "carl_carlson: well, i guess i just wanna try to hang in your new old world stories just turn with their smugglers.\n",
      "homer_simpson: yeah, maybe i need that right. but probably be to be so strong till it much.\n",
      "moe_szyslak: yeah, yeah, well, if you wanna be problems.\n",
      "lisa_simpson:(intelligent noise, then warmly) procedure, you're making your cool in a workers.\n",
      "carl_carlson: what about the truth. / also times.(to moe, through skinner) she's so stupid! and ya said does he give me in myself since for beneath that problems.\n",
      "carl_carlson: maybe this is so who'll about three of a every time.\n",
      "lenny_leonard:\" which many drunk now now?\n",
      "homer_simpson:(worried) why did i feel another old weekly radio lights. now what what i feel. now!\n",
      "carl_carlson: yep.\n",
      "lenny_leonard:(quietly) that's true,\" king simpson...\n",
      "chief_wiggum: and you're pretty late?\n",
      "homer_simpson: well, why don't you all been to be a designated drivers?\n",
      "moe_szyslak:\n"
     ]
    }
   ],
   "source": [
    "gen_length = 300\n",
    "# homer_simpson, moe_szyslak, or Barney_Gumble\n",
    "prime_word = 'moe_szyslak'\n",
    "\n",
    "\"\"\"\n",
    "DON'T MODIFY ANYTHING IN THIS CELL THAT IS BELOW THIS LINE\n",
    "\"\"\"\n",
    "loaded_graph = tf.Graph()\n",
    "with tf.Session(graph=loaded_graph) as sess:\n",
    "    # Load saved model\n",
    "    loader = tf.train.import_meta_graph(load_dir + '.meta')\n",
    "    loader.restore(sess, load_dir)\n",
    "\n",
    "    # Get Tensors from loaded model\n",
    "    input_text, initial_state, final_state, probs = get_tensors(loaded_graph)\n",
    "\n",
    "    # Sentences generation setup\n",
    "    gen_sentences = [prime_word + ':']\n",
    "    prev_state = sess.run(initial_state, {input_text: np.array([[1]])})\n",
    "\n",
    "    # Generate sentences\n",
    "    for n in range(gen_length):\n",
    "        # Dynamic Input\n",
    "        dyn_input = [[vocab_to_int[word] for word in gen_sentences[-seq_length:]]]\n",
    "        dyn_seq_length = len(dyn_input[0])\n",
    "\n",
    "        # Get Prediction\n",
    "        probabilities, prev_state = sess.run(\n",
    "            [probs, final_state],\n",
    "            {input_text: dyn_input, initial_state: prev_state})\n",
    "        pred_word = pick_word(probabilities[0][dyn_seq_length-1], int_to_vocab)\n",
    "        gen_sentences.append(pred_word)\n",
    "    \n",
    "    # Remove tokens\n",
    "    tv_script = ' '.join(gen_sentences)\n",
    "    for key, token in token_dict.items():\n",
    "        ending = ' ' if key in ['\\n', '(', '\"'] else ''\n",
    "        tv_script = tv_script.replace(' ' + token.lower(), key)\n",
    "    tv_script = tv_script.replace('\\n ', '\\n')\n",
    "    tv_script = tv_script.replace('( ', '(')\n",
    "        \n",
    "    print(tv_script)"
   ]
  },
  {
   "cell_type": "markdown",
   "metadata": {
    "deletable": true,
    "editable": true
   },
   "source": [
    "# The TV Script is Nonsensical\n",
    "It's ok if the TV script doesn't make any sense.  We trained on less than a megabyte of text.  In order to get good results, you'll have to use a smaller vocabulary or get more data.  Luckly there's more data!  As we mentioned in the begging of this project, this is a subset of [another dataset](https://www.kaggle.com/wcukierski/the-simpsons-by-the-data).  We didn't have you train on all the data, because that would take too long.  However, you are free to train your neural network on all the data.  After you complete the project, of course.\n",
    "# Submitting This Project\n",
    "When submitting this project, make sure to run all the cells before saving the notebook. Save the notebook file as \"dlnd_tv_script_generation.ipynb\" and save it as a HTML file under \"File\" -> \"Download as\". Include the \"helper.py\" and \"problem_unittests.py\" files in your submission."
   ]
  }
 ],
 "metadata": {
  "kernelspec": {
   "display_name": "Python [conda env:dog-project]",
   "language": "python",
   "name": "conda-env-dog-project-py"
  },
  "language_info": {
   "codemirror_mode": {
    "name": "ipython",
    "version": 3
   },
   "file_extension": ".py",
   "mimetype": "text/x-python",
   "name": "python",
   "nbconvert_exporter": "python",
   "pygments_lexer": "ipython3",
   "version": "3.6.1"
  },
  "widgets": {
   "state": {},
   "version": "1.1.2"
  }
 },
 "nbformat": 4,
 "nbformat_minor": 1
}
